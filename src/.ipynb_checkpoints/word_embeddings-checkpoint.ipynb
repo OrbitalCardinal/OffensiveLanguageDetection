{
 "cells": [
  {
   "cell_type": "markdown",
   "metadata": {},
   "source": [
    "# Word embeddings"
   ]
  },
  {
   "cell_type": "markdown",
   "metadata": {},
   "source": [
    "A word embedding model is created with the previous pre-processed tweets data in order to prepare it to feed a deep learning algorithm.\n",
    "The model is created with the help of the Gensim library and the Word2Vec algorithm."
   ]
  },
  {
   "cell_type": "code",
   "execution_count": 4,
   "metadata": {},
   "outputs": [],
   "source": [
    "# Importing libraries\n",
    "from gensim.models import Word2Vec, KeyedVectors\n",
    "import pandas as pd\n",
    "import nltk"
   ]
  },
  {
   "cell_type": "code",
   "execution_count": 74,
   "metadata": {},
   "outputs": [],
   "source": [
    "# Ignoring gensim deprecation warnings\n",
    "import warnings\n",
    "warnings.filterwarnings(\"ignore\", category=DeprecationWarning) "
   ]
  },
  {
   "cell_type": "code",
   "execution_count": 10,
   "metadata": {},
   "outputs": [
    {
     "data": {
      "text/html": [
       "<div>\n",
       "<style scoped>\n",
       "    .dataframe tbody tr th:only-of-type {\n",
       "        vertical-align: middle;\n",
       "    }\n",
       "\n",
       "    .dataframe tbody tr th {\n",
       "        vertical-align: top;\n",
       "    }\n",
       "\n",
       "    .dataframe thead th {\n",
       "        text-align: right;\n",
       "    }\n",
       "</style>\n",
       "<table border=\"1\" class=\"dataframe\">\n",
       "  <thead>\n",
       "    <tr style=\"text-align: right;\">\n",
       "      <th></th>\n",
       "      <th>tweet</th>\n",
       "    </tr>\n",
       "  </thead>\n",
       "  <tbody>\n",
       "    <tr>\n",
       "      <th>0</th>\n",
       "      <td>she should ask a few native americans what th...</td>\n",
       "    </tr>\n",
       "    <tr>\n",
       "      <th>1</th>\n",
       "      <td>go home you’re drunk</td>\n",
       "    </tr>\n",
       "    <tr>\n",
       "      <th>2</th>\n",
       "      <td>amazon is investigating chinese employees who ...</td>\n",
       "    </tr>\n",
       "    <tr>\n",
       "      <th>3</th>\n",
       "      <td>someone should'vetaken this piece of shit to ...</td>\n",
       "    </tr>\n",
       "    <tr>\n",
       "      <th>4</th>\n",
       "      <td>obama wanted liberals amp illegals to move in...</td>\n",
       "    </tr>\n",
       "    <tr>\n",
       "      <th>...</th>\n",
       "      <td>...</td>\n",
       "    </tr>\n",
       "    <tr>\n",
       "      <th>13235</th>\n",
       "      <td>sometimes i get strong vibes from people and ...</td>\n",
       "    </tr>\n",
       "    <tr>\n",
       "      <th>13236</th>\n",
       "      <td>benidorm creamfields maga not too shabby of a ...</td>\n",
       "    </tr>\n",
       "    <tr>\n",
       "      <th>13237</th>\n",
       "      <td>and why report this garbage we don't give a crap</td>\n",
       "    </tr>\n",
       "    <tr>\n",
       "      <th>13238</th>\n",
       "      <td>pussy</td>\n",
       "    </tr>\n",
       "    <tr>\n",
       "      <th>13239</th>\n",
       "      <td>vs and is a</td>\n",
       "    </tr>\n",
       "  </tbody>\n",
       "</table>\n",
       "<p>13240 rows × 1 columns</p>\n",
       "</div>"
      ],
      "text/plain": [
       "                                                   tweet\n",
       "0       she should ask a few native americans what th...\n",
       "1                                  go home you’re drunk \n",
       "2      amazon is investigating chinese employees who ...\n",
       "3       someone should'vetaken this piece of shit to ...\n",
       "4       obama wanted liberals amp illegals to move in...\n",
       "...                                                  ...\n",
       "13235   sometimes i get strong vibes from people and ...\n",
       "13236  benidorm creamfields maga not too shabby of a ...\n",
       "13237   and why report this garbage we don't give a crap\n",
       "13238                                              pussy\n",
       "13239                                       vs and is a \n",
       "\n",
       "[13240 rows x 1 columns]"
      ]
     },
     "execution_count": 10,
     "metadata": {},
     "output_type": "execute_result"
    }
   ],
   "source": [
    "# Reading the pickled corpus\n",
    "df = pd.read_pickle('corpus.pkl')\n",
    "df"
   ]
  },
  {
   "cell_type": "code",
   "execution_count": 12,
   "metadata": {},
   "outputs": [
    {
     "data": {
      "text/plain": [
       "array([' she should ask a few native americans what their take on this is',\n",
       "       ' go home you’re drunk ',\n",
       "       'amazon is investigating chinese employees who are selling internal data to thirdparty sellers looking for an edge in the competitive marketplace  ',\n",
       "       ..., \" and why report this garbage we don't give a crap\", ' pussy',\n",
       "       ' vs and is a '], dtype=object)"
      ]
     },
     "execution_count": 12,
     "metadata": {},
     "output_type": "execute_result"
    }
   ],
   "source": [
    "# Extracting only tweets strings\n",
    "tweets = df['tweet'].values\n",
    "tweets"
   ]
  },
  {
   "cell_type": "code",
   "execution_count": 15,
   "metadata": {
    "collapsed": true
   },
   "outputs": [
    {
     "name": "stderr",
     "output_type": "stream",
     "text": [
      "[nltk_data] Downloading package punkt to\n",
      "[nltk_data]     C:\\Users\\raulc\\AppData\\Roaming\\nltk_data...\n",
      "[nltk_data]   Unzipping tokenizers\\punkt.zip.\n"
     ]
    },
    {
     "data": {
      "text/plain": [
       "True"
      ]
     },
     "execution_count": 15,
     "metadata": {},
     "output_type": "execute_result"
    }
   ],
   "source": [
    "# This line only need to be executed once.\n",
    "# nltk.download('punkt')"
   ]
  },
  {
   "cell_type": "code",
   "execution_count": 17,
   "metadata": {},
   "outputs": [],
   "source": [
    "# Tokenize tweets\n",
    "tweetsVec = [nltk.word_tokenize(tweet) for tweet in tweets]"
   ]
  },
  {
   "cell_type": "code",
   "execution_count": 20,
   "metadata": {},
   "outputs": [
    {
     "data": {
      "text/plain": [
       "[['she',\n",
       "  'should',\n",
       "  'ask',\n",
       "  'a',\n",
       "  'few',\n",
       "  'native',\n",
       "  'americans',\n",
       "  'what',\n",
       "  'their',\n",
       "  'take',\n",
       "  'on',\n",
       "  'this',\n",
       "  'is'],\n",
       " ['go', 'home', 'you', '’', 're', 'drunk'],\n",
       " ['amazon',\n",
       "  'is',\n",
       "  'investigating',\n",
       "  'chinese',\n",
       "  'employees',\n",
       "  'who',\n",
       "  'are',\n",
       "  'selling',\n",
       "  'internal',\n",
       "  'data',\n",
       "  'to',\n",
       "  'thirdparty',\n",
       "  'sellers',\n",
       "  'looking',\n",
       "  'for',\n",
       "  'an',\n",
       "  'edge',\n",
       "  'in',\n",
       "  'the',\n",
       "  'competitive',\n",
       "  'marketplace']]"
      ]
     },
     "execution_count": 20,
     "metadata": {},
     "output_type": "execute_result"
    }
   ],
   "source": [
    "# Watching tokenized tweets\n",
    "tweetsVec[:3]"
   ]
  },
  {
   "cell_type": "code",
   "execution_count": 52,
   "metadata": {},
   "outputs": [],
   "source": [
    "# Intantiating the word2vec model with the tweets\n",
    "model = Word2Vec(tweetsVec, sg=1,min_count=1, size=32)"
   ]
  },
  {
   "cell_type": "code",
   "execution_count": 54,
   "metadata": {},
   "outputs": [
    {
     "data": {
      "text/plain": [
       "[('donald', 0.9218945503234863),\n",
       " ('supporters', 0.9173102378845215),\n",
       " ('trump', 0.8886902928352356),\n",
       " ('america', 0.8876305222511292),\n",
       " ('elected', 0.8873960971832275),\n",
       " ('bless', 0.8711894154548645),\n",
       " ('economy', 0.8646500706672668),\n",
       " ('names', 0.8630778193473816),\n",
       " ('office', 0.8597269058227539),\n",
       " ('mr', 0.8532628417015076)]"
      ]
     },
     "execution_count": 54,
     "metadata": {},
     "output_type": "execute_result"
    }
   ],
   "source": [
    "# Try the model, searching for similar context words\n",
    "model.wv.most_similar('president')"
   ]
  },
  {
   "cell_type": "code",
   "execution_count": 77,
   "metadata": {},
   "outputs": [
    {
     "data": {
      "text/plain": [
       "[('president', 0.9576005339622498),\n",
       " ('donald', 0.9540096521377563),\n",
       " ('elected', 0.94614577293396),\n",
       " ('successful', 0.942066490650177),\n",
       " ('running', 0.9411432147026062),\n",
       " ('everyday', 0.9411176443099976),\n",
       " ('mr', 0.9403417110443115),\n",
       " ('trumps', 0.9363796710968018),\n",
       " ('worst', 0.9357656240463257),\n",
       " ('hearing', 0.933832049369812)]"
      ]
     },
     "execution_count": 77,
     "metadata": {},
     "output_type": "execute_result"
    }
   ],
   "source": [
    "# Searching for similar context words\n",
    "model.wv.most_similar([model['president'] + model['racist']])"
   ]
  },
  {
   "cell_type": "code",
   "execution_count": 76,
   "metadata": {},
   "outputs": [
    {
     "data": {
      "text/plain": [
       "array([-1.0181432e-01, -6.3804859e-01,  8.5113764e-01,  2.5683653e-01,\n",
       "       -5.6336392e-02, -3.7355831e-01, -8.2846753e-02, -5.9428388e-01,\n",
       "       -1.2152272e-01, -5.2633029e-01, -7.7832365e-01, -1.8067653e-01,\n",
       "        6.1785817e-01, -8.0049145e-01,  3.3926737e-02,  3.9009708e-01,\n",
       "       -4.1866809e-04, -3.9191800e-01, -2.6297250e-01,  2.5312582e-01,\n",
       "        2.0808209e-01, -1.3070372e-01, -9.1949046e-01, -1.0082793e+00,\n",
       "       -6.6766238e-01, -1.2877797e-01,  9.7716016e-01,  1.7283945e-01,\n",
       "        4.5947799e-01, -4.7760308e-01,  2.5592345e-01, -5.2014556e-02],\n",
       "      dtype=float32)"
      ]
     },
     "execution_count": 76,
     "metadata": {},
     "output_type": "execute_result"
    }
   ],
   "source": [
    "# Watching the embedding\n",
    "model['liberals']"
   ]
  },
  {
   "cell_type": "markdown",
   "metadata": {},
   "source": [
    "A dimentionality reduction is performed on the generated vectors in order to plot them in the 2D plane and be able to see the distance representing similarity between each word vector."
   ]
  },
  {
   "cell_type": "code",
   "execution_count": 82,
   "metadata": {},
   "outputs": [],
   "source": [
    "# Importing library for visualization\n",
    "import matplotlib.pyplot as plt\n",
    "from sklearn.decomposition import PCA"
   ]
  },
  {
   "cell_type": "code",
   "execution_count": 100,
   "metadata": {},
   "outputs": [],
   "source": [
    "# Extracting model vocabulary\n",
    "vocabulary = model.wv.vocab"
   ]
  },
  {
   "cell_type": "code",
   "execution_count": 101,
   "metadata": {},
   "outputs": [],
   "source": [
    "# Instantiate the PCA object\n",
    "pca = PCA(n_components=2)"
   ]
  },
  {
   "cell_type": "code",
   "execution_count": 102,
   "metadata": {},
   "outputs": [],
   "source": [
    "# Performirng the dimentionality reduction\n",
    "fit_pca = pca.fit_transform(model[vocabulary])"
   ]
  },
  {
   "cell_type": "code",
   "execution_count": 147,
   "metadata": {
    "scrolled": false
   },
   "outputs": [
    {
     "data": {
      "image/png": "[encoded data removed]",
      "text/plain": [
       "<Figure size 432x288 with 1 Axes>"
      ]
     },
     "metadata": {
      "needs_background": "light"
     },
     "output_type": "display_data"
    }
   ],
   "source": [
    "# Plotting\n",
    "plt.figure(figsize=(6,4))\n",
    "plt.scatter(fit_pca[:,0], fit_pca[:,1])\n",
    "plt.xlim(0.71,0.75)\n",
    "plt.ylim(-0.1,0)\n",
    "# Annotate\n",
    "for i, word in enumerate(vocabulary):\n",
    "    plt.annotate(word, xy=(fit_pca[i,0], fit_pca[i,1]),clip_on=True)\n",
    "plt.show()"
   ]
  }
 ],
 "metadata": {
  "kernelspec": {
   "display_name": "Python 3",
   "language": "python",
   "name": "python3"
  },
  "language_info": {
   "codemirror_mode": {
    "name": "ipython",
    "version": 3
   },
   "file_extension": ".py",
   "mimetype": "text/x-python",
   "name": "python",
   "nbconvert_exporter": "python",
   "pygments_lexer": "ipython3",
   "version": "3.7.8"
  }
 },
 "nbformat": 4,
 "nbformat_minor": 4
}
