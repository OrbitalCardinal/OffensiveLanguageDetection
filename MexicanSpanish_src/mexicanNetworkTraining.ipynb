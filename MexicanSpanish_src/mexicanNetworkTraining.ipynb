{
 "cells": [
  {
   "cell_type": "markdown",
   "metadata": {},
   "source": [
    "## Limpieza de datos"
   ]
  },
  {
   "cell_type": "code",
   "execution_count": 6,
   "metadata": {},
   "outputs": [],
   "source": [
    "import pandas as pd\n",
    "import pickle\n",
    "\n",
    "text_data = pd.read_csv('../SpanishDataSets/m3x/train_aggressiveness.csv')\n",
    "text_data = text_data[['Category','Text']]\n",
    "\n",
    "test_data = pd.read_csv('../SpanishDataSets/m3x/test_aggressiveness.csv')\n",
    "test_data = test_data[['Text']]"
   ]
  },
  {
   "cell_type": "code",
   "execution_count": 13,
   "metadata": {},
   "outputs": [],
   "source": [
    "import re \n",
    "import string\n",
    "\n",
    "#Codigo unicode para emojis, puede ser utilizado con regex\n",
    "EMOJI_PATTERN = re.compile(\n",
    "    \"[\"\n",
    "    \"\\U0001F1E0-\\U0001F1FF\"  # flags (iOS)\n",
    "    \"\\U0001F300-\\U0001F5FF\"  # symbols & pictographs\n",
    "    \"\\U0001F600-\\U0001F64F\"  # emoticons\n",
    "    \"\\U0001F680-\\U0001F6FF\"  # transport & map symbols\n",
    "    \"\\U0001F700-\\U0001F77F\"  # alchemical symbols\n",
    "    \"\\U0001F780-\\U0001F7FF\"  # Geometric Shapes Extended\n",
    "    \"\\U0001F800-\\U0001F8FF\"  # Supplemental Arrows-C\n",
    "    \"\\U0001F900-\\U0001F9FF\"  # Supplemental Symbols and Pictographs\n",
    "    \"\\U0001FA00-\\U0001FA6F\"  # Chess Symbols\n",
    "    \"\\U0001FA70-\\U0001FAFF\"  # Symbols and Pictographs Extended-A\n",
    "    \"\\U00002702-\\U000027B0\"  # Dingbats\n",
    "    \"\\U000024C2-\\U0001F251\" \n",
    "    \"]+\"\n",
    "    )\n",
    "\n",
    "def clean_text(text):\n",
    "    #Remove @USER\n",
    "    text = re.sub(r'@[^\\s]+','',text)\n",
    "    #Remove hastags\n",
    "    text = re.sub('#\\w+','',text)\n",
    "    #Remove emoji\n",
    "    text = re.sub(EMOJI_PATTERN,'',text)\n",
    "    #Remove white space\n",
    "    text = re.sub('\\s+',' ',text)\n",
    "    #Beginning of the text white space\n",
    "    text = re.sub('^\\s+',' ',text)\n",
    "    #Remove URL\n",
    "    text = re.sub('URL','',text)\n",
    "    #Remove punctuation marks\n",
    "    text = re.sub('[.,\\/#!¿$|%\"—\\?@\\^&\\*\\+;:{}=\\-_`~()]','',text)\n",
    "    #Remove digits\n",
    "    text = re.sub('\\d','',text)\n",
    "    #Lowercase\n",
    "    text = text.lower()\n",
    "    \n",
    "    return text\n",
    "\n",
    "#Funcion lambda para aplicar en los conjuntos de datos\n",
    "clean = lambda x: clean_text(x)"
   ]
  },
  {
   "cell_type": "code",
   "execution_count": 15,
   "metadata": {},
   "outputs": [
    {
     "data": {
      "text/html": [
       "<div>\n",
       "<style scoped>\n",
       "    .dataframe tbody tr th:only-of-type {\n",
       "        vertical-align: middle;\n",
       "    }\n",
       "\n",
       "    .dataframe tbody tr th {\n",
       "        vertical-align: top;\n",
       "    }\n",
       "\n",
       "    .dataframe thead th {\n",
       "        text-align: right;\n",
       "    }\n",
       "</style>\n",
       "<table border=\"1\" class=\"dataframe\">\n",
       "  <thead>\n",
       "    <tr style=\"text-align: right;\">\n",
       "      <th></th>\n",
       "      <th>Category</th>\n",
       "      <th>Text</th>\n",
       "    </tr>\n",
       "  </thead>\n",
       "  <tbody>\n",
       "    <tr>\n",
       "      <th>0</th>\n",
       "      <td>0</td>\n",
       "      <td>soy el clint eastwood de los puentes de madiso...</td>\n",
       "    </tr>\n",
       "    <tr>\n",
       "      <th>1</th>\n",
       "      <td>0</td>\n",
       "      <td>actualmente ya pasó de moda la pucha joto ahor...</td>\n",
       "    </tr>\n",
       "    <tr>\n",
       "      <th>2</th>\n",
       "      <td>0</td>\n",
       "      <td>es cierto esto y no me refiero a lo que dijo n...</td>\n",
       "    </tr>\n",
       "    <tr>\n",
       "      <th>3</th>\n",
       "      <td>0</td>\n",
       "      <td>vuela pega y esquiva la neta está de la vergaa...</td>\n",
       "    </tr>\n",
       "    <tr>\n",
       "      <th>4</th>\n",
       "      <td>0</td>\n",
       "      <td>mejor puto disfraz de la noche por tercer año ...</td>\n",
       "    </tr>\n",
       "    <tr>\n",
       "      <th>...</th>\n",
       "      <td>...</td>\n",
       "      <td>...</td>\n",
       "    </tr>\n",
       "    <tr>\n",
       "      <th>7327</th>\n",
       "      <td>0</td>\n",
       "      <td>firmado por toda la pandilla de a toda madre e...</td>\n",
       "    </tr>\n",
       "    <tr>\n",
       "      <th>7328</th>\n",
       "      <td>0</td>\n",
       "      <td>looool esta foto nunca me la imagine que putos...</td>\n",
       "    </tr>\n",
       "    <tr>\n",
       "      <th>7329</th>\n",
       "      <td>1</td>\n",
       "      <td>pinshe profe se mamo con el examen todavía que...</td>\n",
       "    </tr>\n",
       "    <tr>\n",
       "      <th>7330</th>\n",
       "      <td>0</td>\n",
       "      <td>ra parte con el morrito de ayer me chupa la ve...</td>\n",
       "    </tr>\n",
       "    <tr>\n",
       "      <th>7331</th>\n",
       "      <td>0</td>\n",
       "      <td>la piel prieta</td>\n",
       "    </tr>\n",
       "  </tbody>\n",
       "</table>\n",
       "<p>7332 rows × 2 columns</p>\n",
       "</div>"
      ],
      "text/plain": [
       "      Category                                               Text\n",
       "0            0  soy el clint eastwood de los puentes de madiso...\n",
       "1            0  actualmente ya pasó de moda la pucha joto ahor...\n",
       "2            0  es cierto esto y no me refiero a lo que dijo n...\n",
       "3            0  vuela pega y esquiva la neta está de la vergaa...\n",
       "4            0  mejor puto disfraz de la noche por tercer año ...\n",
       "...        ...                                                ...\n",
       "7327         0  firmado por toda la pandilla de a toda madre e...\n",
       "7328         0  looool esta foto nunca me la imagine que putos...\n",
       "7329         1  pinshe profe se mamo con el examen todavía que...\n",
       "7330         0  ra parte con el morrito de ayer me chupa la ve...\n",
       "7331         0                                    la piel prieta \n",
       "\n",
       "[7332 rows x 2 columns]"
      ]
     },
     "execution_count": 15,
     "metadata": {},
     "output_type": "execute_result"
    }
   ],
   "source": [
    "text_data.Text = text_data.Text.apply(clean)\n",
    "test_data.Text = test_data.Text.apply(clean)"
   ]
  },
  {
   "cell_type": "code",
   "execution_count": 16,
   "metadata": {},
   "outputs": [],
   "source": [
    "text_data.to_csv('text_data_clean.csv')\n",
    "test_data.to_csv('test_data_clean.csv')"
   ]
  },
  {
   "cell_type": "markdown",
   "metadata": {},
   "source": [
    "## Entrenamiento de la red neuronal"
   ]
  },
  {
   "cell_type": "code",
   "execution_count": 19,
   "metadata": {},
   "outputs": [],
   "source": [
    "# Importando librerias\n",
    "from keras.preprocessing.text import Tokenizer\n",
    "from keras.preprocessing.sequence import pad_sequences\n",
    "from keras.layers import Embedding, Dense, GlobalMaxPool1D, Dropout, Flatten, Bidirectional, LSTM\n",
    "from keras.models import Sequential"
   ]
  },
  {
   "cell_type": "code",
   "execution_count": 49,
   "metadata": {},
   "outputs": [],
   "source": [
    "num_words=(2000)\n",
    "max_len=200\n",
    "tokenizer=Tokenizer(2000)\n",
    "tokenizer.fit_on_texts(text_data.Text)\n",
    "train_sequences=tokenizer.texts_to_sequences(text_data.Text)\n",
    "test_sequences=tokenizer.texts_to_sequences(test_data.Text)\n",
    "\n",
    "padded_train = pad_sequences(train_sequences, maxlen=max_len)\n",
    "padded_test = pad_sequences(test_sequences, maxlen=max_len)"
   ]
  },
  {
   "cell_type": "code",
   "execution_count": 24,
   "metadata": {},
   "outputs": [],
   "source": [
    "y = text_data.Category.values"
   ]
  },
  {
   "cell_type": "code",
   "execution_count": 30,
   "metadata": {},
   "outputs": [
    {
     "name": "stdout",
     "output_type": "stream",
     "text": [
      "Epoch 1/6\n",
      "150/150 [==============================] - 13s 89ms/step - loss: 0.6035 - accuracy: 0.7090 - val_loss: 0.5049 - val_accuracy: 0.7927\n",
      "Epoch 2/6\n",
      "150/150 [==============================] - 13s 87ms/step - loss: 0.4673 - accuracy: 0.7999 - val_loss: 0.4799 - val_accuracy: 0.8031\n",
      "Epoch 3/6\n",
      "150/150 [==============================] - 13s 87ms/step - loss: 0.3636 - accuracy: 0.8437 - val_loss: 0.3651 - val_accuracy: 0.8385\n",
      "Epoch 4/6\n",
      "150/150 [==============================] - 13s 87ms/step - loss: 0.3074 - accuracy: 0.8704 - val_loss: 0.3763 - val_accuracy: 0.8445\n",
      "Epoch 5/6\n",
      "150/150 [==============================] - 13s 87ms/step - loss: 0.2497 - accuracy: 0.8955 - val_loss: 0.4063 - val_accuracy: 0.8287\n",
      "Epoch 6/6\n",
      "150/150 [==============================] - 13s 87ms/step - loss: 0.2158 - accuracy: 0.9144 - val_loss: 0.4567 - val_accuracy: 0.8287\n"
     ]
    }
   ],
   "source": [
    "batch_size = 28\n",
    "epoch = 6\n",
    "model=Sequential([Embedding(num_words,32,input_length=max_len),\n",
    "                 Bidirectional(LSTM(64,return_sequences=True)),\n",
    "                 GlobalMaxPool1D(),\n",
    "                 Dense(60,activation='relu'),\n",
    "                  Dense(1,activation='sigmoid')\n",
    "                 ])\n",
    "\n",
    "model.compile(optimizer='adam',loss='binary_crossentropy',metrics='accuracy')\n",
    "history = model.fit(padded_train,y,batch_size,epochs=epoch, validation_split=.25, steps_per_epoch=150)"
   ]
  },
  {
   "cell_type": "code",
   "execution_count": 31,
   "metadata": {},
   "outputs": [
    {
     "data": {
      "text/plain": [
       "[<matplotlib.lines.Line2D at 0x1a227b247c8>]"
      ]
     },
     "execution_count": 31,
     "metadata": {},
     "output_type": "execute_result"
    },
    {
     "data": {
      "image/png": "[encoded data removed]",
      "text/plain": [
       "<Figure size 432x288 with 1 Axes>"
      ]
     },
     "metadata": {
      "needs_background": "light"
     },
     "output_type": "display_data"
    }
   ],
   "source": [
    "import matplotlib.pyplot as plt\n",
    "plt.plot(history.history['accuracy'], label=\"Precisión\")\n",
    "plt.plot(history.history['loss'], label=\"Perdida\")"
   ]
  },
  {
   "cell_type": "code",
   "execution_count": 50,
   "metadata": {},
   "outputs": [],
   "source": [
    "predicted = model.predict(padded_test)"
   ]
  },
  {
   "cell_type": "code",
   "execution_count": 52,
   "metadata": {},
   "outputs": [
    {
     "name": "stdout",
     "output_type": "stream",
     "text": [
      " si y uno que era como de sopa de letras o un pedo así de la madre esa que está en la explanada bien memes de secundaria  [0.011068]\n",
      "verga creo que van a matar a algunos periodistas por hacer esto  [0.018898]\n",
      " que nivel de bancada está preparado el movimiento morenazi con el noroñas y la delfinita hasta vamos a extrañar al señor hdp de bartlett  [0.978384]\n",
      "a san martín tirilín tirilín se lo llevó torolón torolón un huracán taralán taralán questá cabrón torolón torolón  [0.036261]\n",
      "buenas putas noches pinches rameros de mierda aberraciones de dios putos bastardos  [0.908102]\n",
      " por q es una mamá luchona que cuida a su bendición  [0.020743]\n",
      " que nuestro señor jesus lo cuide y proteja y nuestra madre maria lo guíe y lo mantenga bajo su manto sagrado su santidad buen vieje  [0.003701]\n",
      "siempre le doy una nueva oportunidad al amor xq no quiero estar frustrada y convertirme en una luchona o feminazi  [0.001958]\n",
      "porq no dises q televisa pone presidentes vende putas para los mas ricos de pais q tu puedes correr aquienquieras  [0.991899]\n",
      "esta ponencia empezó con neoliberalismo y termino hablando de putas  [0.152125]\n",
      " respira profundo y juega otra madre o en otro server o yo que se pero relaja la raja  [0.017286]\n",
      "si embarazas a tu elfa en estos días y trabajas te darán incapacidad por paternidad durante el mundial de rusia ponte verga  [0.296001]\n",
      "pero nadamas acaben las putas reparaciones de las plantas me agarrare chingo de días de descanso  [0.037770]\n",
      "siento que mi prima la gorda ya esta discutiendo con alguien porque esta bien encabronada en el cellular hahahaha  [0.032887]\n",
      "como dice el amor y el dinero no se pueden esconder bueno yo no escondo ni madres  [0.049913]\n",
      "para que entiendas sergio si dijo piruja y dijo golfas pero no se los dijo a las mujeres para ofenderlas  [0.087098]\n",
      "lo puse en avion xq no quiero salir y no dejan de mamar ya voy  [0.039726]\n",
      "uno ocupa saldo y sus putos horarios para hacerlo dsd su aplicación  [0.024569]\n",
      "no puedo creer que ya se van a cumplir años de purposeaún me acuerdo estar como loca al saber sobre el regreso de justin me siento vieja  [0.001111]\n",
      "asi incadita para que mela chupes la verga mami hasta que me saques los mecos  [0.089902]\n"
     ]
    }
   ],
   "source": [
    "import numpy as np\n",
    "np.set_printoptions(formatter={'float_kind':'{:2f}'.format})\n",
    "\n",
    "for i in range(20):\n",
    "    print(test_data.Text[i],predicted[i])"
   ]
  },
  {
   "cell_type": "code",
   "execution_count": 53,
   "metadata": {},
   "outputs": [],
   "source": [
    "#Saving the model\n",
    "from keras.models import load_model\n",
    "\n",
    "model.save('Mexicanspanish_OLD_model.h5')"
   ]
  },
  {
   "cell_type": "code",
   "execution_count": 21,
   "metadata": {},
   "outputs": [
    {
     "name": "stdout",
     "output_type": "stream",
     "text": [
      "WARNING:tensorflow:11 out of the last 11 calls to <function Model.make_predict_function.<locals>.predict_function at 0x000001AD653BA288> triggered tf.function retracing. Tracing is expensive and the excessive number of tracings could be due to (1) creating @tf.function repeatedly in a loop, (2) passing tensors with different shapes, (3) passing Python objects instead of tensors. For (1), please define your @tf.function outside of the loop. For (2), @tf.function has experimental_relax_shapes=True option that relaxes argument shapes that can avoid unnecessary retracing. For (3), please refer to https://www.tensorflow.org/tutorials/customization/performance#python_or_tensor_args and https://www.tensorflow.org/api_docs/python/tf/function for  more details.\n"
     ]
    },
    {
     "data": {
      "text/plain": [
       "array([[0.8922128]], dtype=float32)"
      ]
     },
     "execution_count": 21,
     "metadata": {},
     "output_type": "execute_result"
    }
   ],
   "source": [
    "import pandas as pd\n",
    "from keras.models import load_model\n",
    "# Importando librerias\n",
    "from keras.preprocessing.text import Tokenizer\n",
    "from keras.preprocessing.sequence import pad_sequences\n",
    "from keras.layers import Embedding, Dense, GlobalMaxPool1D, Dropout, Flatten, Bidirectional, LSTM\n",
    "from keras.models import Sequential\n",
    "\n",
    "new_model = load_model('Mexicanspanish_OLD_model.h5')\n",
    "test2 = pd.read_csv('myMexicanTest.csv')\n",
    "test2 = test2.Text.astype(str)\n",
    "num_words2=(2000)\n",
    "max_len2=200\n",
    "tokenizer2=Tokenizer(2000)\n",
    "tokenizer2.fit_on_texts(text_data.Text)\n",
    "train_sequences2=tokenizer2.texts_to_sequences(text_data.Text)\n",
    "test_sequences2=tokenizer2.texts_to_sequences(test2)\n",
    "padded_test2 = pad_sequences(test_sequences2, maxlen=max_len2)\n",
    "\n",
    "new_model.predict(padded_test2)\n"
   ]
  }
 ],
 "metadata": {
  "kernelspec": {
   "display_name": "Python 3",
   "language": "python",
   "name": "python3"
  },
  "language_info": {
   "codemirror_mode": {
    "name": "ipython",
    "version": 3
   },
   "file_extension": ".py",
   "mimetype": "text/x-python",
   "name": "python",
   "nbconvert_exporter": "python",
   "pygments_lexer": "ipython3",
   "version": "3.7.8"
  }
 },
 "nbformat": 4,
 "nbformat_minor": 4
}
