{
 "cells": [
  {
   "cell_type": "markdown",
   "metadata": {},
   "source": [
    "## Limpieza de datos y preprocesamiento"
   ]
  },
  {
   "cell_type": "markdown",
   "metadata": {},
   "source": [
    "Usando el conjunto de datos expedido por HatEval, se realiza una limpieza de datos para su uso posterior en los algoritmos de aprendizaje automatico."
   ]
  },
  {
   "cell_type": "markdown",
   "metadata": {},
   "source": [
    "Se importan el conjunto de datos y se remueven las columnas de clasificación inecesarias."
   ]
  },
  {
   "cell_type": "markdown",
   "metadata": {},
   "source": [
    "Se utiliza solo la columna del texto y la columna de clasificación \"AG\" que se refiere a \"Agresivo\"."
   ]
  },
  {
   "cell_type": "code",
   "execution_count": 112,
   "metadata": {},
   "outputs": [
    {
     "data": {
      "text/html": [
       "<div>\n",
       "<style scoped>\n",
       "    .dataframe tbody tr th:only-of-type {\n",
       "        vertical-align: middle;\n",
       "    }\n",
       "\n",
       "    .dataframe tbody tr th {\n",
       "        vertical-align: top;\n",
       "    }\n",
       "\n",
       "    .dataframe thead th {\n",
       "        text-align: right;\n",
       "    }\n",
       "</style>\n",
       "<table border=\"1\" class=\"dataframe\">\n",
       "  <thead>\n",
       "    <tr style=\"text-align: right;\">\n",
       "      <th></th>\n",
       "      <th>text</th>\n",
       "      <th>AG</th>\n",
       "    </tr>\n",
       "  </thead>\n",
       "  <tbody>\n",
       "    <tr>\n",
       "      <th>3942</th>\n",
       "      <td>@EnamorandonosTV Cada vez enseñando mas el cul...</td>\n",
       "      <td>1</td>\n",
       "    </tr>\n",
       "    <tr>\n",
       "      <th>2894</th>\n",
       "      <td>@iescolar @HiginiaRoig Tu eres tonto y no tien...</td>\n",
       "      <td>0</td>\n",
       "    </tr>\n",
       "    <tr>\n",
       "      <th>320</th>\n",
       "      <td>Lo vuelvo a mencionar porque es que me cabrea ...</td>\n",
       "      <td>0</td>\n",
       "    </tr>\n",
       "    <tr>\n",
       "      <th>3179</th>\n",
       "      <td>Es que tu eres biennn puta pero putea pa ya pa...</td>\n",
       "      <td>1</td>\n",
       "    </tr>\n",
       "    <tr>\n",
       "      <th>3130</th>\n",
       "      <td>Radio Habana Cuba | Restituye España salud gra...</td>\n",
       "      <td>0</td>\n",
       "    </tr>\n",
       "  </tbody>\n",
       "</table>\n",
       "</div>"
      ],
      "text/plain": [
       "                                                   text  AG\n",
       "3942  @EnamorandonosTV Cada vez enseñando mas el cul...   1\n",
       "2894  @iescolar @HiginiaRoig Tu eres tonto y no tien...   0\n",
       "320   Lo vuelvo a mencionar porque es que me cabrea ...   0\n",
       "3179  Es que tu eres biennn puta pero putea pa ya pa...   1\n",
       "3130  Radio Habana Cuba | Restituye España salud gra...   0"
      ]
     },
     "execution_count": 112,
     "metadata": {},
     "output_type": "execute_result"
    }
   ],
   "source": [
    "import pandas as pd\n",
    "import pickle\n",
    "\n",
    "#Precargando el conjunto de entrenamiento\n",
    "tweets_data =  pd.read_csv('../SpanishDataSets/train_es.tsv', delimiter='\\t',encoding=\"utf-8\")\n",
    "#HS puede ser considerado en el futuro\n",
    "tweets_data = tweets_data[['text','AG']] \n",
    "\n",
    "#Precargando el conjunto de prueba\n",
    "test_data = pd.read_csv('../SpanishDataSets/test_es.tsv', delimiter='\\t',encoding=\"utf-8\")\n",
    "test_data = test_data[['text']]\n",
    "\n",
    "#Visualizando el resultado \n",
    "tweets_data.sample(5)"
   ]
  },
  {
   "cell_type": "markdown",
   "metadata": {},
   "source": [
    "El texto contenido en el conjunto de datos contiene caracteres inecesarios, signos de puntuación y demás basura que se remueve a continuación."
   ]
  },
  {
   "cell_type": "code",
   "execution_count": 113,
   "metadata": {},
   "outputs": [],
   "source": [
    "import re \n",
    "import string\n",
    "\n",
    "#Codigo unicode para emojis, puede ser utilizado con regex\n",
    "EMOJI_PATTERN = re.compile(\n",
    "    \"[\"\n",
    "    \"\\U0001F1E0-\\U0001F1FF\"  # flags (iOS)\n",
    "    \"\\U0001F300-\\U0001F5FF\"  # symbols & pictographs\n",
    "    \"\\U0001F600-\\U0001F64F\"  # emoticons\n",
    "    \"\\U0001F680-\\U0001F6FF\"  # transport & map symbols\n",
    "    \"\\U0001F700-\\U0001F77F\"  # alchemical symbols\n",
    "    \"\\U0001F780-\\U0001F7FF\"  # Geometric Shapes Extended\n",
    "    \"\\U0001F800-\\U0001F8FF\"  # Supplemental Arrows-C\n",
    "    \"\\U0001F900-\\U0001F9FF\"  # Supplemental Symbols and Pictographs\n",
    "    \"\\U0001FA00-\\U0001FA6F\"  # Chess Symbols\n",
    "    \"\\U0001FA70-\\U0001FAFF\"  # Symbols and Pictographs Extended-A\n",
    "    \"\\U00002702-\\U000027B0\"  # Dingbats\n",
    "    \"\\U000024C2-\\U0001F251\" \n",
    "    \"]+\"\n",
    "    )\n",
    "\n",
    "def clean_text(text):\n",
    "    #Remove @USER\n",
    "    text = re.sub(r'@[^\\s]+','',text)\n",
    "    #Remove hastags\n",
    "    text = re.sub('#\\w+','',text)\n",
    "    #Remove emoji\n",
    "    text = re.sub(EMOJI_PATTERN,'',text)\n",
    "    #Remove white space\n",
    "    text = re.sub('\\s+',' ',text)\n",
    "    #Beginning of the text white space\n",
    "    text = re.sub('^\\s+',' ',text)\n",
    "    #Remove URL\n",
    "    text = re.sub('URL','',text)\n",
    "    #Remove punctuation marks\n",
    "    text = re.sub('[.,\\/#!¿$|%\"—\\?@\\^&\\*\\+;:{}=\\-_`~()]','',text)\n",
    "    #Remove digits\n",
    "    text = re.sub('\\d','',text)\n",
    "    #Lowercase\n",
    "    text = text.lower()\n",
    "    \n",
    "    return text\n",
    "\n",
    "#Funcion lambda para aplicar en los conjuntos de datos\n",
    "clean = lambda x: clean_text(x)"
   ]
  },
  {
   "cell_type": "markdown",
   "metadata": {},
   "source": [
    "Limpiando los textos para los conjuntos de entrenamiento y de pruebas"
   ]
  },
  {
   "cell_type": "code",
   "execution_count": 114,
   "metadata": {},
   "outputs": [],
   "source": [
    "tweets_data.text = tweets_data.text.apply(clean)\n",
    "test_data.text = test_data.text.apply(clean)"
   ]
  },
  {
   "cell_type": "markdown",
   "metadata": {},
   "source": [
    "Separando los textos que se clasifican como agresivos y no agresivos para su posterior analísis."
   ]
  },
  {
   "cell_type": "code",
   "execution_count": 115,
   "metadata": {},
   "outputs": [
    {
     "data": {
      "text/html": [
       "<div>\n",
       "<style scoped>\n",
       "    .dataframe tbody tr th:only-of-type {\n",
       "        vertical-align: middle;\n",
       "    }\n",
       "\n",
       "    .dataframe tbody tr th {\n",
       "        vertical-align: top;\n",
       "    }\n",
       "\n",
       "    .dataframe thead th {\n",
       "        text-align: right;\n",
       "    }\n",
       "</style>\n",
       "<table border=\"1\" class=\"dataframe\">\n",
       "  <thead>\n",
       "    <tr style=\"text-align: right;\">\n",
       "      <th></th>\n",
       "      <th>text</th>\n",
       "      <th>AG</th>\n",
       "    </tr>\n",
       "  </thead>\n",
       "  <tbody>\n",
       "    <tr>\n",
       "      <th>778</th>\n",
       "      <td>q ministra d lo que falta y lo que sobra traba...</td>\n",
       "      <td>0</td>\n",
       "    </tr>\n",
       "    <tr>\n",
       "      <th>3087</th>\n",
       "      <td>me mama que me digan güera jaja gracs la vdd s...</td>\n",
       "      <td>0</td>\n",
       "    </tr>\n",
       "    <tr>\n",
       "      <th>2068</th>\n",
       "      <td>hijo de perra no me estes hablando asi tu ere...</td>\n",
       "      <td>0</td>\n",
       "    </tr>\n",
       "    <tr>\n",
       "      <th>1948</th>\n",
       "      <td>comentario escatológico si no hay papal del cu...</td>\n",
       "      <td>0</td>\n",
       "    </tr>\n",
       "    <tr>\n",
       "      <th>641</th>\n",
       "      <td>puta gente nacida después de  que imbécil es ...</td>\n",
       "      <td>0</td>\n",
       "    </tr>\n",
       "  </tbody>\n",
       "</table>\n",
       "</div>"
      ],
      "text/plain": [
       "                                                   text  AG\n",
       "778   q ministra d lo que falta y lo que sobra traba...   0\n",
       "3087  me mama que me digan güera jaja gracs la vdd s...   0\n",
       "2068   hijo de perra no me estes hablando asi tu ere...   0\n",
       "1948  comentario escatológico si no hay papal del cu...   0\n",
       "641    puta gente nacida después de  que imbécil es ...   0"
      ]
     },
     "execution_count": 115,
     "metadata": {},
     "output_type": "execute_result"
    }
   ],
   "source": [
    "non_agressive = tweets_data.loc[tweets_data['AG'] == 0]\n",
    "non_agressive.sample(5)"
   ]
  },
  {
   "cell_type": "code",
   "execution_count": 116,
   "metadata": {},
   "outputs": [
    {
     "data": {
      "text/html": [
       "<div>\n",
       "<style scoped>\n",
       "    .dataframe tbody tr th:only-of-type {\n",
       "        vertical-align: middle;\n",
       "    }\n",
       "\n",
       "    .dataframe tbody tr th {\n",
       "        vertical-align: top;\n",
       "    }\n",
       "\n",
       "    .dataframe thead th {\n",
       "        text-align: right;\n",
       "    }\n",
       "</style>\n",
       "<table border=\"1\" class=\"dataframe\">\n",
       "  <thead>\n",
       "    <tr style=\"text-align: right;\">\n",
       "      <th></th>\n",
       "      <th>text</th>\n",
       "      <th>AG</th>\n",
       "    </tr>\n",
       "  </thead>\n",
       "  <tbody>\n",
       "    <tr>\n",
       "      <th>3604</th>\n",
       "      <td>cuando te dicen que tu mujer es una perra http...</td>\n",
       "      <td>1</td>\n",
       "    </tr>\n",
       "    <tr>\n",
       "      <th>2725</th>\n",
       "      <td>jajajaja cállate maldita perra de mierda ladr...</td>\n",
       "      <td>1</td>\n",
       "    </tr>\n",
       "    <tr>\n",
       "      <th>3296</th>\n",
       "      <td>quintana ha explotado como una cucaracha que s...</td>\n",
       "      <td>1</td>\n",
       "    </tr>\n",
       "    <tr>\n",
       "      <th>2876</th>\n",
       "      <td>le cuento las secuencias de la noche a mi mamá...</td>\n",
       "      <td>1</td>\n",
       "    </tr>\n",
       "    <tr>\n",
       "      <th>3174</th>\n",
       "      <td>tu cállate perra</td>\n",
       "      <td>1</td>\n",
       "    </tr>\n",
       "  </tbody>\n",
       "</table>\n",
       "</div>"
      ],
      "text/plain": [
       "                                                   text  AG\n",
       "3604  cuando te dicen que tu mujer es una perra http...   1\n",
       "2725   jajajaja cállate maldita perra de mierda ladr...   1\n",
       "3296  quintana ha explotado como una cucaracha que s...   1\n",
       "2876  le cuento las secuencias de la noche a mi mamá...   1\n",
       "3174                                   tu cállate perra   1"
      ]
     },
     "execution_count": 116,
     "metadata": {},
     "output_type": "execute_result"
    }
   ],
   "source": [
    "agressive = tweets_data.loc[tweets_data['AG'] == 1]\n",
    "agressive.sample(5)"
   ]
  },
  {
   "cell_type": "markdown",
   "metadata": {},
   "source": [
    "## Corpus de texto"
   ]
  },
  {
   "cell_type": "markdown",
   "metadata": {},
   "source": [
    "Se extrae el texto solamente para el corpus de texto."
   ]
  },
  {
   "cell_type": "code",
   "execution_count": 117,
   "metadata": {},
   "outputs": [
    {
     "data": {
      "text/html": [
       "<div>\n",
       "<style scoped>\n",
       "    .dataframe tbody tr th:only-of-type {\n",
       "        vertical-align: middle;\n",
       "    }\n",
       "\n",
       "    .dataframe tbody tr th {\n",
       "        vertical-align: top;\n",
       "    }\n",
       "\n",
       "    .dataframe thead th {\n",
       "        text-align: right;\n",
       "    }\n",
       "</style>\n",
       "<table border=\"1\" class=\"dataframe\">\n",
       "  <thead>\n",
       "    <tr style=\"text-align: right;\">\n",
       "      <th></th>\n",
       "      <th>text</th>\n",
       "    </tr>\n",
       "  </thead>\n",
       "  <tbody>\n",
       "    <tr>\n",
       "      <th>0</th>\n",
       "      <td>easyjet quiere duplicar el número de mujeres p...</td>\n",
       "    </tr>\n",
       "    <tr>\n",
       "      <th>1</th>\n",
       "      <td>el gobierno debe crear un control estricto de ...</td>\n",
       "    </tr>\n",
       "    <tr>\n",
       "      <th>2</th>\n",
       "      <td>yo veo a mujeres destruidas por acoso laboral ...</td>\n",
       "    </tr>\n",
       "    <tr>\n",
       "      <th>3</th>\n",
       "      <td>yo soy respetuoso con los demás sólamente les...</td>\n",
       "    </tr>\n",
       "    <tr>\n",
       "      <th>4</th>\n",
       "      <td>antonio caballero y como ser de mal gusto e ig...</td>\n",
       "    </tr>\n",
       "    <tr>\n",
       "      <th>...</th>\n",
       "      <td>...</td>\n",
       "    </tr>\n",
       "    <tr>\n",
       "      <th>4445</th>\n",
       "      <td>cállateeee zorra ahre</td>\n",
       "    </tr>\n",
       "    <tr>\n",
       "      <th>4446</th>\n",
       "      <td>presidente en cúcuta  tenemos problemas con v...</td>\n",
       "    </tr>\n",
       "    <tr>\n",
       "      <th>4447</th>\n",
       "      <td>callaté visto que te dejo en puta</td>\n",
       "    </tr>\n",
       "    <tr>\n",
       "      <th>4448</th>\n",
       "      <td>porque los hombres se casan con las mujeres po...</td>\n",
       "    </tr>\n",
       "    <tr>\n",
       "      <th>4449</th>\n",
       "      <td>no hay nada más lento que un caracol  cállate...</td>\n",
       "    </tr>\n",
       "  </tbody>\n",
       "</table>\n",
       "<p>4450 rows × 1 columns</p>\n",
       "</div>"
      ],
      "text/plain": [
       "                                                   text\n",
       "0     easyjet quiere duplicar el número de mujeres p...\n",
       "1     el gobierno debe crear un control estricto de ...\n",
       "2     yo veo a mujeres destruidas por acoso laboral ...\n",
       "3      yo soy respetuoso con los demás sólamente les...\n",
       "4     antonio caballero y como ser de mal gusto e ig...\n",
       "...                                                 ...\n",
       "4445                             cállateeee zorra ahre \n",
       "4446   presidente en cúcuta  tenemos problemas con v...\n",
       "4447                  callaté visto que te dejo en puta\n",
       "4448  porque los hombres se casan con las mujeres po...\n",
       "4449   no hay nada más lento que un caracol  cállate...\n",
       "\n",
       "[4450 rows x 1 columns]"
      ]
     },
     "execution_count": 117,
     "metadata": {},
     "output_type": "execute_result"
    }
   ],
   "source": [
    "only_text = pd.DataFrame(tweets_data.text)\n",
    "only_text"
   ]
  },
  {
   "cell_type": "markdown",
   "metadata": {},
   "source": [
    "También se extraen los corpus para los no agresivos y agresivos exclusivos."
   ]
  },
  {
   "cell_type": "code",
   "execution_count": 118,
   "metadata": {},
   "outputs": [
    {
     "data": {
      "text/html": [
       "<div>\n",
       "<style scoped>\n",
       "    .dataframe tbody tr th:only-of-type {\n",
       "        vertical-align: middle;\n",
       "    }\n",
       "\n",
       "    .dataframe tbody tr th {\n",
       "        vertical-align: top;\n",
       "    }\n",
       "\n",
       "    .dataframe thead th {\n",
       "        text-align: right;\n",
       "    }\n",
       "</style>\n",
       "<table border=\"1\" class=\"dataframe\">\n",
       "  <thead>\n",
       "    <tr style=\"text-align: right;\">\n",
       "      <th></th>\n",
       "      <th>text</th>\n",
       "    </tr>\n",
       "  </thead>\n",
       "  <tbody>\n",
       "    <tr>\n",
       "      <th>0</th>\n",
       "      <td>easyjet quiere duplicar el número de mujeres p...</td>\n",
       "    </tr>\n",
       "    <tr>\n",
       "      <th>1</th>\n",
       "      <td>el gobierno debe crear un control estricto de ...</td>\n",
       "    </tr>\n",
       "    <tr>\n",
       "      <th>2</th>\n",
       "      <td>yo veo a mujeres destruidas por acoso laboral ...</td>\n",
       "    </tr>\n",
       "    <tr>\n",
       "      <th>3</th>\n",
       "      <td>yo soy respetuoso con los demás sólamente les...</td>\n",
       "    </tr>\n",
       "    <tr>\n",
       "      <th>4</th>\n",
       "      <td>antonio caballero y como ser de mal gusto e ig...</td>\n",
       "    </tr>\n",
       "    <tr>\n",
       "      <th>...</th>\n",
       "      <td>...</td>\n",
       "    </tr>\n",
       "    <tr>\n",
       "      <th>4442</th>\n",
       "      <td>porque las mujeres pierden la regla a los  por...</td>\n",
       "    </tr>\n",
       "    <tr>\n",
       "      <th>4444</th>\n",
       "      <td>absurda europa y bruselas el populismo es lo q...</td>\n",
       "    </tr>\n",
       "    <tr>\n",
       "      <th>4447</th>\n",
       "      <td>callaté visto que te dejo en puta</td>\n",
       "    </tr>\n",
       "    <tr>\n",
       "      <th>4448</th>\n",
       "      <td>porque los hombres se casan con las mujeres po...</td>\n",
       "    </tr>\n",
       "    <tr>\n",
       "      <th>4449</th>\n",
       "      <td>no hay nada más lento que un caracol  cállate...</td>\n",
       "    </tr>\n",
       "  </tbody>\n",
       "</table>\n",
       "<p>2970 rows × 1 columns</p>\n",
       "</div>"
      ],
      "text/plain": [
       "                                                   text\n",
       "0     easyjet quiere duplicar el número de mujeres p...\n",
       "1     el gobierno debe crear un control estricto de ...\n",
       "2     yo veo a mujeres destruidas por acoso laboral ...\n",
       "3      yo soy respetuoso con los demás sólamente les...\n",
       "4     antonio caballero y como ser de mal gusto e ig...\n",
       "...                                                 ...\n",
       "4442  porque las mujeres pierden la regla a los  por...\n",
       "4444  absurda europa y bruselas el populismo es lo q...\n",
       "4447                  callaté visto que te dejo en puta\n",
       "4448  porque los hombres se casan con las mujeres po...\n",
       "4449   no hay nada más lento que un caracol  cállate...\n",
       "\n",
       "[2970 rows x 1 columns]"
      ]
     },
     "execution_count": 118,
     "metadata": {},
     "output_type": "execute_result"
    }
   ],
   "source": [
    "only_text_non = pd.DataFrame(non_agressive.text)\n",
    "only_text_non"
   ]
  },
  {
   "cell_type": "code",
   "execution_count": 119,
   "metadata": {},
   "outputs": [
    {
     "data": {
      "text/html": [
       "<div>\n",
       "<style scoped>\n",
       "    .dataframe tbody tr th:only-of-type {\n",
       "        vertical-align: middle;\n",
       "    }\n",
       "\n",
       "    .dataframe tbody tr th {\n",
       "        vertical-align: top;\n",
       "    }\n",
       "\n",
       "    .dataframe thead th {\n",
       "        text-align: right;\n",
       "    }\n",
       "</style>\n",
       "<table border=\"1\" class=\"dataframe\">\n",
       "  <thead>\n",
       "    <tr style=\"text-align: right;\">\n",
       "      <th></th>\n",
       "      <th>text</th>\n",
       "    </tr>\n",
       "  </thead>\n",
       "  <tbody>\n",
       "    <tr>\n",
       "      <th>9</th>\n",
       "      <td>llora te lomereces por zorra</td>\n",
       "    </tr>\n",
       "    <tr>\n",
       "      <th>13</th>\n",
       "      <td>callate gallina puta y cntala cmo quieras bol...</td>\n",
       "    </tr>\n",
       "    <tr>\n",
       "      <th>21</th>\n",
       "      <td>no tienes ni puta ideala melodia es mi novia ...</td>\n",
       "    </tr>\n",
       "    <tr>\n",
       "      <th>27</th>\n",
       "      <td>tu eres demasiado perra</td>\n",
       "    </tr>\n",
       "    <tr>\n",
       "      <th>32</th>\n",
       "      <td>puteria y perico también somos almas gemelas ...</td>\n",
       "    </tr>\n",
       "    <tr>\n",
       "      <th>...</th>\n",
       "      <td>...</td>\n",
       "    </tr>\n",
       "    <tr>\n",
       "      <th>4436</th>\n",
       "      <td>sabes a quién se a tirado la pelirroja esta la...</td>\n",
       "    </tr>\n",
       "    <tr>\n",
       "      <th>4438</th>\n",
       "      <td>outfit puta cállate jajaja</td>\n",
       "    </tr>\n",
       "    <tr>\n",
       "      <th>4443</th>\n",
       "      <td>que tal hija de puta está perra para ir de ac...</td>\n",
       "    </tr>\n",
       "    <tr>\n",
       "      <th>4445</th>\n",
       "      <td>cállateeee zorra ahre</td>\n",
       "    </tr>\n",
       "    <tr>\n",
       "      <th>4446</th>\n",
       "      <td>presidente en cúcuta  tenemos problemas con v...</td>\n",
       "    </tr>\n",
       "  </tbody>\n",
       "</table>\n",
       "<p>1480 rows × 1 columns</p>\n",
       "</div>"
      ],
      "text/plain": [
       "                                                   text\n",
       "9                          llora te lomereces por zorra\n",
       "13     callate gallina puta y cntala cmo quieras bol...\n",
       "21     no tienes ni puta ideala melodia es mi novia ...\n",
       "27                             tu eres demasiado perra \n",
       "32     puteria y perico también somos almas gemelas ...\n",
       "...                                                 ...\n",
       "4436  sabes a quién se a tirado la pelirroja esta la...\n",
       "4438                         outfit puta cállate jajaja\n",
       "4443   que tal hija de puta está perra para ir de ac...\n",
       "4445                             cállateeee zorra ahre \n",
       "4446   presidente en cúcuta  tenemos problemas con v...\n",
       "\n",
       "[1480 rows x 1 columns]"
      ]
     },
     "execution_count": 119,
     "metadata": {},
     "output_type": "execute_result"
    }
   ],
   "source": [
    "only_text_agressive = pd.DataFrame(agressive.text)\n",
    "only_text_agressive"
   ]
  },
  {
   "cell_type": "markdown",
   "metadata": {},
   "source": [
    "Exportando los corpus de texto limpios de todos los tweets."
   ]
  },
  {
   "cell_type": "code",
   "execution_count": 120,
   "metadata": {},
   "outputs": [],
   "source": [
    "tweets_data.to_csv('tweets_data_clean.csv')\n",
    "test_data.to_csv('test_clean.csv')\n",
    "only_text.to_csv('only_text.csv')\n",
    "only_text_non.to_csv('only_text_non.csv')\n",
    "only_text_agressive.to_csv('only_text_agressive.csv')"
   ]
  },
  {
   "cell_type": "markdown",
   "metadata": {},
   "source": [
    "Guardando los data frames en formato pickle para su posterior utilización"
   ]
  },
  {
   "cell_type": "code",
   "execution_count": 121,
   "metadata": {},
   "outputs": [],
   "source": [
    "only_text.to_pickle('corpus_only_text.pkl')\n",
    "only_text_non.to_pickle('corpus_non.pkl')\n",
    "only_text_agressive.to_pickle('corpus_agressive.pkl')"
   ]
  }
 ],
 "metadata": {
  "kernelspec": {
   "display_name": "Python 3",
   "language": "python",
   "name": "python3"
  },
  "language_info": {
   "codemirror_mode": {
    "name": "ipython",
    "version": 3
   },
   "file_extension": ".py",
   "mimetype": "text/x-python",
   "name": "python",
   "nbconvert_exporter": "python",
   "pygments_lexer": "ipython3",
   "version": "3.7.8"
  }
 },
 "nbformat": 4,
 "nbformat_minor": 4
}
